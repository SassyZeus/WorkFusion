{
  "nbformat": 4,
  "nbformat_minor": 0,
  "metadata": {
    "colab": {
      "provenance": []
    },
    "kernelspec": {
      "name": "python3",
      "display_name": "Python 3"
    },
    "language_info": {
      "name": "python"
    }
  },
  "cells": [
    {
      "cell_type": "code",
      "execution_count": null,
      "metadata": {
        "id": "20UnBaoIMS00"
      },
      "outputs": [],
      "source": [
        "def print_statement(message):\n",
        "    \"\"\"Prints the provided message.\"\"\"\n",
        "    print(message)\n",
        "\n",
        "# Example usage:\n",
        "print_statement(\"Hello, this is a custom function!\")"
      ]
    }
  ]
}